{
 "cells": [
  {
   "cell_type": "markdown",
   "metadata": {
    "id": "oxGURa6zGfuY"
   },
   "source": [
    "# Projeto Técnicas de Programação\n",
    "## Grupo 7 - Turma 1007 - ADA Santader Coders 2023 Data Science\n",
    "---\n",
    "## Membros\n",
    "### Clara Ferreira Batista\n",
    "### Laura Muglia\n",
    "### Luana Ferraz\n",
    "### Pedro Elias\n",
    "### Rafael Couto de Oliveira\n",
    "---\n",
    "\n",
    "Nosso repositório :\n",
    "https://github.com/claraferreirabatista/analise_dos_microdados_do_enem.git"
   ]
  },
  {
   "cell_type": "markdown",
   "metadata": {
    "id": "S7QHnk4ABllP"
   },
   "source": [
    "---\n",
    "## *Introdução*\n",
    "\n",
    "* Motivo do trabalho: Analise dos Microdados do Enem;\n",
    "* Contexto da analise do trabalho: Analise do impacto da COVID-19 nos números da região Centro-oeste referente aos anos de 2018 a 2022;\n",
    "* Onde encontrar os dados : https://www.gov.br/inep/pt-br/acesso-a-informacao/dados-abertos/microdados/enem."
   ]
  },
  {
   "cell_type": "markdown",
   "metadata": {
    "id": "-A0WVtcRBq8P"
   },
   "source": [
    "### Divisão de tarefas\n",
    "\n",
    "* Escolha do tópico: Laura Muglia\n",
    "* Extração dos dados e amostras: Pedro Elias\n",
    "* Carregamento, limpeza e tratativa dos dados: Rafael Couto\n",
    "* Elaboração das perguntas: Luana Ferraz e Laura Muglia\n",
    "* Análise exploratória: Pedro Elias, Rafael Couto\n",
    "* Elaboração de gráficos: Pedro Elias, Luana Ferraz\n",
    "* BugFix, reprodutibilidade e repositório: Clara Ferreira Batista\n",
    "* Conclusões: Todos\n"
   ]
  },
  {
   "cell_type": "markdown",
   "metadata": {
    "id": "hwDbQ2wtQhYT"
   },
   "source": [
    "---\n",
    "## Importando bibliotecas"
   ]
  },
  {
   "cell_type": "code",
   "execution_count": null,
   "metadata": {
    "id": "zkYe5ePkQhHj"
   },
   "outputs": [],
   "source": [
    "import pandas as pd\n",
    "import matplotlib.pyplot as plt"
   ]
  },
  {
   "cell_type": "markdown",
   "metadata": {
    "id": "2qoxdSJeByTm"
   },
   "source": [
    "# Carregamento dos dados"
   ]
  },
  {
   "cell_type": "code",
   "execution_count": null,
   "metadata": {
    "id": "6ZUwTXxMBOuf"
   },
   "outputs": [],
   "source": [
    "\n",
    "# Importe os arquivos Parquet para DataFrames Pandas\n",
    "dados_2018_co = pd.read_parquet('dados_co/ENEM_2018_CENTROOESTE.parquet')\n",
    "dados_2019_co = pd.read_parquet('dados_co/ENEM_2019_CENTROOESTE.parquet')\n",
    "dados_2020_co = pd.read_parquet('dados_co/ENEM_2020_CENTROOESTE.parquet')\n",
    "dados_2021_co = pd.read_parquet('dados_co/ENEM_2021_CENTROOESTE.parquet')\n",
    "dados_2022_co = pd.read_parquet('dados_co/ENEM_2022_CENTROOESTE.parquet')"
   ]
  },
  {
   "cell_type": "code",
   "execution_count": null,
   "metadata": {
    "id": "VXf1zwegDHRl"
   },
   "outputs": [],
   "source": [
    "# Concatenar os DataFrames\n",
    "dados = pd.concat([dados_2018_co, dados_2019_co, dados_2020_co, dados_2021_co, dados_2022_co], ignore_index=True)\n",
    "dados = dados.set_index('NU_INSCRICAO')\n",
    "#Configurar pandas para exibir todas as colunas\n",
    "pd.set_option('display.max_columns', None)"
   ]
  },
  {
   "cell_type": "markdown",
   "metadata": {
    "id": "9zMDoNV1DK0f"
   },
   "source": [
    "O dataset original foi carregado com 2.018.780 linhas e 76 colunas."
   ]
  },
  {
   "cell_type": "markdown",
   "metadata": {
    "id": "KXHBwW-bDzGX"
   },
   "source": [
    " ---\n",
    "# 1. Limpeza dos dados\n",
    "Exclusão de linhas e colunas não interessantes, unificação e redução de colunas que representam a mesma informação, tratativa de váriaveis e export do `dataset` limpo e tratado."
   ]
  },
  {
   "cell_type": "markdown",
   "metadata": {
    "id": "lyrC30xpGMvF"
   },
   "source": [
    "## 1.1 Exclusão de Colunas\n",
    "Exclusão de colunas que não se mostraram importantes para análise."
   ]
  },
  {
   "cell_type": "code",
   "execution_count": null,
   "metadata": {
    "id": "A1eznYIgDtB0"
   },
   "outputs": [],
   "source": [
    "#Exclusão das colunas de questões socioeconomicas não interessantes, respostas e gabaritos\n",
    "\n",
    "#Colunas de questões\n",
    "dados = dados.iloc[:,:52]\n",
    "\n",
    "#Colunas de gabarito\n",
    "col_gabaritos = ['TX_GABARITO_MT','TX_GABARITO_LC','TX_GABARITO_CH','TX_GABARITO_CN']\n",
    "dados.drop(columns=col_gabaritos, inplace=True)\n",
    "\n",
    "#Colunas de respostas\n",
    "col_respostas = ['TX_RESPOSTAS_MT','TX_RESPOSTAS_LC', 'TX_RESPOSTAS_CH','TX_RESPOSTAS_CN']\n",
    "dados.drop(columns=col_respostas, inplace=True)"
   ]
  },
  {
   "cell_type": "code",
   "execution_count": null,
   "metadata": {
    "colab": {
     "base_uri": "https://localhost:8080/"
    },
    "id": "dVplo0rnrGJi",
    "outputId": "60d7dc52-1a76-4e7d-ca5e-d1efbfd0ede4"
   },
   "outputs": [],
   "source": [
    "dados.info()"
   ]
  },
  {
   "cell_type": "code",
   "execution_count": null,
   "metadata": {
    "id": "RevGcBf4GTP0"
   },
   "outputs": [],
   "source": [
    "#Exclusão de colunas não importantes para a análise\n",
    "\n",
    "#Estado Civil\n",
    "dados.drop(columns='TP_ESTADO_CIVIL', inplace=True)\n",
    "\n",
    "#Tipo de instituição\n",
    "dados.drop(columns='TP_ENSINO', inplace=True)\n",
    "\n",
    "#Situação da escola\n",
    "dados.drop(columns='TP_SIT_FUNC_ESC', inplace=True)\n",
    "\n",
    "#codigos do municipio/estado\n",
    "col_codigoslocais = ['CO_MUNICIPIO_ESC','CO_UF_ESC','CO_MUNICIPIO_PROVA','CO_UF_PROVA']\n",
    "dados.drop(columns=col_codigoslocais, inplace=True)\n",
    "\n",
    "#codigo da cor da prova\n",
    "col_cores = ['CO_PROVA_CN','CO_PROVA_CH','CO_PROVA_LC','CO_PROVA_MT']\n",
    "dados.drop(columns=col_cores, inplace=True)\n",
    "\n",
    "#competencias redação\n",
    "col_competencias = ['NU_NOTA_COMP1','NU_NOTA_COMP2','NU_NOTA_COMP3','NU_NOTA_COMP4','NU_NOTA_COMP5']\n",
    "dados.drop(columns=col_competencias, inplace=True)\n"
   ]
  },
  {
   "cell_type": "code",
   "execution_count": null,
   "metadata": {
    "id": "hlxWVKv-GVyu"
   },
   "outputs": [],
   "source": [
    "#Exclusão das linhas de treineiros e da coluna\n",
    "dados = dados[dados['IN_TREINEIRO'] == 0]\n",
    "dados.drop(columns='IN_TREINEIRO', inplace=True)"
   ]
  },
  {
   "cell_type": "markdown",
   "metadata": {
    "id": "x32FytLFGYhu"
   },
   "source": [
    "## 1.2 Unificação de Colunas\n",
    "Unificação de colunas multiplas em colunas singulares."
   ]
  },
  {
   "cell_type": "code",
   "execution_count": null,
   "metadata": {
    "id": "1PES5fMnHDdd"
   },
   "outputs": [],
   "source": [
    "#Unir presenças\n",
    "#0\tFaltou à prova\n",
    "#1\tPresente na prova\n",
    "#2\tEliminado na prova\n",
    "\n",
    "dados['TP_PRESENCA_MT'] =  dados['TP_PRESENCA_MT'].astype(str)\n",
    "dados['TP_PRESENCA_CN'] =  dados['TP_PRESENCA_CN'].astype(str)\n",
    "dados['TP_PRESENCA_CH'] =  dados['TP_PRESENCA_CH'].astype(str)\n",
    "dados['TP_PRESENCA_LC'] =  dados['TP_PRESENCA_LC'].astype(str)\n",
    "\n",
    "\n",
    "#Soma os TP_PRESENCA_CN, TP_PRESENCA_CH, TP_PRESENCA_LC,TP_PRESENCA_MT\n",
    "dados['TP_PRESENCA'] = dados['TP_PRESENCA_CN'] + dados['TP_PRESENCA_CH'] + dados['TP_PRESENCA_LC'] + dados['TP_PRESENCA_MT']\n",
    "\n",
    "#deletar as colunas de presença\n",
    "col_presenca = ['TP_PRESENCA_MT','TP_PRESENCA_CN','TP_PRESENCA_CH','TP_PRESENCA_LC']\n",
    "dados.drop(columns=col_presenca, inplace=True)"
   ]
  },
  {
   "cell_type": "code",
   "execution_count": null,
   "metadata": {
    "colab": {
     "base_uri": "https://localhost:8080/"
    },
    "id": "NZUCGe0vSyac",
    "outputId": "0604b2c8-cbf9-4585-becd-67c379a342bc"
   },
   "outputs": [],
   "source": [
    "#Analisando dados unidos\n",
    "prop_presenca = dados['TP_PRESENCA'].value_counts(normalize=True)*100\n",
    "\n",
    "#printando\n",
    "graf1 = prop_presenca.plot(kind='bar')\n",
    "plt.title('Proporções dos Valores Únicos na Coluna TP_PRESENCA')\n",
    "plt.xlabel('Valor')\n",
    "plt.ylabel('Proporção (%)')\n",
    "#plt.xticks(rotation=0)\n",
    "graf1.bar_label(graf1.containers[0], fmt='%.2f%%')\n",
    "plt.tight_layout()\n",
    "plt.show()"
   ]
  },
  {
   "cell_type": "markdown",
   "metadata": {
    "id": "C7NgwGGDZj8n"
   },
   "source": [
    "Os valores da coluna `TP_PRESENCA` serão transformados em `bool` e serão tratados da seguinte forma:\n",
    "* `1 1 1 1` : Aluno Presente, 4 presenças (`TRUE`)\n",
    "* `demais valores`: Aluno Ausente ou eliminado em uma ou mais provas (`FALSE`)"
   ]
  },
  {
   "cell_type": "code",
   "execution_count": null,
   "metadata": {
    "id": "cLN0G8FoVtiL"
   },
   "outputs": [],
   "source": [
    "dados['TP_PRESENCA'] = dados['TP_PRESENCA'].map({'1.01.01.01.0': True})\n",
    "dados['TP_PRESENCA'] = dados['TP_PRESENCA'].fillna(False)"
   ]
  },
  {
   "cell_type": "code",
   "execution_count": null,
   "metadata": {
    "id": "Kg9tMPQUHE2O"
   },
   "outputs": [],
   "source": [
    "#Nota Geral - Criar nova coluna somando as notas\n",
    "dados['NU_NOTA_GERAL']=(dados['NU_NOTA_CN'] + dados['NU_NOTA_CH'] + dados['NU_NOTA_LC'] + dados['NU_NOTA_MT'])/4"
   ]
  },
  {
   "cell_type": "markdown",
   "metadata": {
    "id": "lhhUdSUGHJa2"
   },
   "source": [
    "## 1.3 Tratativa dos dados\n",
    "\n",
    "Elaboração das tabelas \"de-para\" para valores que estão como \"flag\" ou valores numéricos, porém representam variaveis categóricas,substituição de flags por valores em colunas com baixa variabilidade e correção de formatos."
   ]
  },
  {
   "cell_type": "markdown",
   "metadata": {
    "id": "iE9XUViw4BX_"
   },
   "source": [
    "#### 1.3.1 Tabelas \"De-para\"\n",
    "\n",
    "Elaboração das tabelas \"de-para\" para valores que estão como \"flag\" ou valores numéricos, porém representam variaveis categóricas. Usado para variáveis de alta variabilidade."
   ]
  },
  {
   "cell_type": "code",
   "execution_count": null,
   "metadata": {
    "id": "ldHAY2mEHIvl"
   },
   "outputs": [],
   "source": [
    "#Tabela de/para: Faixa etária\n",
    "\n",
    "# Dados para a coluna #TP_FAIXA_ETARIA\n",
    "dp_idades = {\n",
    "    'TP_FAIXA_ETARIA': [1, 2, 3, 4, 5, 6, 7, 8, 9, 10,\n",
    "                         11, 12, 13, 14, 15, 16, 17, 18, 19, 20],\n",
    "    'Faixa Etária': ['Menor de 17 anos', '17 anos', '18 anos', '19 anos', '20 anos',\n",
    "                     '21 anos', '22 anos', '23 anos', '24 anos', '25 anos',\n",
    "                     'Entre 26 e 30 anos', 'Entre 31 e 35 anos', 'Entre 36 e 40 anos', 'Entre 41 e 45 anos',\n",
    "                     'Entre 46 e 50 anos', 'Entre 51 e 55 anos', 'Entre 56 e 60 anos',\n",
    "                     'Entre 61 e 65 anos', 'Entre 66 e 70 anos', 'Maior de 70 anos'],\n",
    "    'Média idade': [16, 17, 18, 19, 20, 21, 22, 23, 24, 25, 28, 33, 38, 43, 48, 53, 58, 63, 68, 72]\n",
    "}\n",
    "\n",
    "dp_idades = pd.DataFrame(dp_idades).set_index('TP_FAIXA_ETARIA')"
   ]
  },
  {
   "cell_type": "code",
   "execution_count": null,
   "metadata": {
    "id": "r2u_dJENIdm9"
   },
   "outputs": [],
   "source": [
    "#Tabela de/para: Cor/Raça\n",
    "\n",
    "#Dados para a coluna #TP_COR_RACA\n",
    "dp_raca = {\n",
    "    'TP_COR_RACA': [0, 1, 2, 3, 4, 5, 6],\n",
    "    'Cor/Raça': ['Não declarado', 'Branca', 'Preta', 'Parda', 'Amarela', 'Indígena', 'Não dispõe da informação']\n",
    "}\n",
    "dp_raca = pd.DataFrame(dp_raca).set_index('TP_COR_RACA')"
   ]
  },
  {
   "cell_type": "code",
   "execution_count": null,
   "metadata": {
    "id": "KaiuQrdsIfFl"
   },
   "outputs": [],
   "source": [
    "#Tabela de/para: Nacionalidade\n",
    "\n",
    "#Dados para a coluna TP_NACIONALIDADE\n",
    "dp_nacionalidade = {\n",
    "    'TP_NACIONALIDADE': [0, 1, 2, 3, 4],\n",
    "    'Nacionalidade_info': ['Não informado', 'Brasileiro(a)', 'Brasileiro(a) Naturalizado(a)',\n",
    "                      'Estrangeiro(a)', 'Brasileiro(a) Nato(a), nascido(a) no exterior']\n",
    "}\n",
    "\n",
    "dp_nacionalidade = pd.DataFrame(dp_nacionalidade).set_index('TP_NACIONALIDADE')"
   ]
  },
  {
   "cell_type": "code",
   "execution_count": null,
   "metadata": {
    "id": "SJabJ4ErkIii"
   },
   "outputs": [],
   "source": [
    "#Tabela de/para: Situação conclusão\n",
    "\n",
    "#Dados para a coluna TP_ST_CONCLUSAO\n",
    "dp_conclusao = {\n",
    "    'TP_ST_CONCLUSAO': [1, 2, 3, 4],\n",
    "    'Situação do Ensino Médio': ['Já concluí o Ensino Médio',\n",
    "                                 'Estou cursando e concluirei o Ensino Médio no Ano da Prova',\n",
    "                                 'Estou cursando e concluirei o Ensino Médio após o Ano da Prova',\n",
    "                                 'Não concluí e não estou cursando o Ensino Médio']\n",
    "}\n",
    "\n",
    "dp_conclusao = pd.DataFrame(dp_conclusao).set_index('TP_ST_CONCLUSAO')"
   ]
  },
  {
   "cell_type": "code",
   "execution_count": null,
   "metadata": {
    "id": "7xSDjFH0IggN"
   },
   "outputs": [],
   "source": [
    "#Tabela de/para: Ano Conclusão\n",
    "\n",
    "# Dados para a coluna #TP_ANO_CONCLUIU\n",
    "dp_ano_conclusao = {\n",
    "    'TP_ANO_CONCLUIU': [0, 1, 2, 3, 4, 5, 6, 7, 8, 9, 10,\n",
    "                         11, 12, 13, 14, 15, 16],\n",
    "    'Ano Concluiu': ['Não informado', '2021', '2020', '2019', '2018', '2017', '2016',\n",
    "                     '2015', '2014', '2013', '2012', '2011', '2010', '2009', '2008',\n",
    "                     '2007', 'Antes de 2007']\n",
    "}\n",
    "\n",
    "dp_ano_conclusao = pd.DataFrame(dp_ano_conclusao).set_index('TP_ANO_CONCLUIU')"
   ]
  },
  {
   "cell_type": "code",
   "execution_count": null,
   "metadata": {
    "id": "zrTLXPikImwV"
   },
   "outputs": [],
   "source": [
    "#Tabela de/para: Status Redação\n",
    "\n",
    "# Dados para a coluna TP_STATUS_REDACAO\n",
    "\n",
    "dp_redacao = {\n",
    "    'TP_STATUS_REDACAO': [1, 2, 3, 4, 6, 7, 8, 9],\n",
    "    'Status Redacao': ['Sem problemas', 'Anulada', 'Cópia Texto Motivador', 'Em Branco',\n",
    "                       'Fuga ao tema', 'Não atendimento ao tipo textual', 'Texto insuficiente', 'Parte desconectada']\n",
    "}\n",
    "\n",
    "dp_redacao = pd.DataFrame(dp_redacao).set_index('TP_STATUS_REDACAO')"
   ]
  },
  {
   "cell_type": "markdown",
   "metadata": {
    "id": "PT8Efc4g4OEM"
   },
   "source": [
    "#### 1.3.2 Substituição de variáveis\n",
    "Substituição de flags por valores em colunas com baixa variabilidade."
   ]
  },
  {
   "cell_type": "code",
   "execution_count": null,
   "metadata": {
    "id": "ys66rTKwIiCd"
   },
   "outputs": [],
   "source": [
    "#o Ano de 2018 possui uma diferença onde 3 signifca exterior e 4 significa escola privada\n",
    "#filtra os tipo 3 do ano 2018\n",
    "dados_filtrados_2018 = dados[(dados['NU_ANO'] == 2018) & (dados['TP_ESCOLA'] == 3)]\n",
    "#elimina os tipo 3 do ano 2018 pelo index\n",
    "dados.drop(dados_filtrados_2018.index, inplace=True)\n",
    "#substitui os tipo 4 por 3\n",
    "dados['TP_ESCOLA'].replace(4,3,inplace=True)\n",
    "\n",
    "#Substituição dos valores na coluna TP_ESCOLA\n",
    "\n",
    "dados['TP_ESCOLA'] = dados['TP_ESCOLA'].map({1:'Não Respondeu', 2:'Pública', 3:'Privada'})"
   ]
  },
  {
   "cell_type": "code",
   "execution_count": null,
   "metadata": {
    "id": "LS06Ue3bIjX_"
   },
   "outputs": [],
   "source": [
    "#Substituição dos valores na coluna TP_LINGUA\n",
    "\n",
    "dados['TP_LINGUA'] = dados['TP_LINGUA'].map({0:'Inglês', 1:'Espanhol'})"
   ]
  },
  {
   "cell_type": "code",
   "execution_count": null,
   "metadata": {
    "id": "iCYxZPiiImSm"
   },
   "outputs": [],
   "source": [
    "#Substituição dos valores na coluna TP_DEPENDENCIA_ADM_ESC\n",
    "\n",
    "dados['TP_DEPENDENCIA_ADM_ESC'] = dados['TP_DEPENDENCIA_ADM_ESC'].map({1:'Federal', 2:'Estadual', 3:'Municipal',4:'Privada'})\n"
   ]
  },
  {
   "cell_type": "code",
   "execution_count": null,
   "metadata": {
    "id": "07inxrzxo9Rr"
   },
   "outputs": [],
   "source": [
    "#Substituição dos valores na coluna TP_LOCALIZACAO_ESC\n",
    "\n",
    "dados['TP_LOCALIZACAO_ESC'] = dados['TP_LOCALIZACAO_ESC'].map({1:'Urbana', 2:'Rural'})"
   ]
  },
  {
   "cell_type": "markdown",
   "metadata": {
    "id": "rVg1rGBkI4xd"
   },
   "source": [
    "#### 1.3.3 Tratar dados nulos\n",
    "Remoção de dados ou alocação de valores para dados nulos."
   ]
  },
  {
   "cell_type": "code",
   "execution_count": null,
   "metadata": {
    "id": "lNviitQktE2K"
   },
   "outputs": [],
   "source": [
    "#excluir linhas com presença nula\n",
    "dados.dropna(subset=['TP_PRESENCA'],inplace=True)"
   ]
  },
  {
   "cell_type": "code",
   "execution_count": null,
   "metadata": {
    "id": "TqkZAI8itWd5"
   },
   "outputs": [],
   "source": [
    "#Atribuir 0 para notas nulas, NU_NOTA_CN, NU_NOTA_CH, NU_NOTA_LC,NU_NOTA_MT, NU_NOTA_REDACAO, NU_NOTA_GERAL\n",
    "\n",
    "# Lista das colunas de notas\n",
    "col_notas = ['NU_NOTA_CN', 'NU_NOTA_CH', 'NU_NOTA_LC', 'NU_NOTA_MT', 'NU_NOTA_REDACAO', 'NU_NOTA_GERAL']\n",
    "\n",
    "# Preencher 0 para os valores nulos dessas colunas\n",
    "dados[col_notas] = dados[col_notas].fillna(0)"
   ]
  },
  {
   "cell_type": "code",
   "execution_count": null,
   "metadata": {
    "id": "ofYx2tGNuA0h"
   },
   "outputs": [],
   "source": [
    "#atribuir 2 para redações nulas  - anulada TP_STATUS_REDACAO\n",
    "\n",
    "dados['TP_STATUS_REDACAO'] = dados['TP_STATUS_REDACAO'].fillna(2)"
   ]
  },
  {
   "cell_type": "markdown",
   "metadata": {
    "id": "h2Mn9zDJWr9u"
   },
   "source": [
    "#### 1.3.4 Ajustar Formatos\n",
    "Corrigir tipos das colunas do dataset\n"
   ]
  },
  {
   "cell_type": "code",
   "execution_count": null,
   "metadata": {
    "id": "LWa1yHjivmAo"
   },
   "outputs": [],
   "source": [
    "#converter TP_PRESENCA para bool\n",
    "dados['TP_PRESENCA']=dados['TP_PRESENCA'].astype(bool)"
   ]
  },
  {
   "cell_type": "markdown",
   "metadata": {
    "id": "-SJ71_2EIt8M"
   },
   "source": [
    "## 1.4 Exportar Base tratada"
   ]
  },
  {
   "cell_type": "code",
   "execution_count": null,
   "metadata": {
    "id": "yqhWYThBIva9"
   },
   "outputs": [],
   "source": [
    "#exportar um csv unico com todos os dados tratados\n",
    "dados.to_parquet('ENEM_CO_TRATADO.parquet', index=False)"
   ]
  },
  {
   "cell_type": "markdown",
   "metadata": {
    "id": "C-f-v57SNzAR"
   },
   "source": [
    "Após limpeza e tratamento dos dados, a base tem xxxxx elementos e xxx colunas."
   ]
  },
  {
   "cell_type": "markdown",
   "metadata": {
    "id": "CiFCict1yVcY"
   },
   "source": [
    "---\n",
    "# 2. Análise Exploratória das variáveis\n",
    "Visualizações de algumas variáveis para possíveis insights.\n"
   ]
  },
  {
   "cell_type": "code",
   "execution_count": null,
   "metadata": {
    "id": "NnCVjNUWyi_o"
   },
   "outputs": [],
   "source": [
    "# Importar bibliotecas\n",
    "import pandas as pd\n",
    "import matplotlib.pyplot as plt\n",
    "import seaborn as sns\n",
    "import plotly.graph_objects as go\n",
    "import plotly.express as px\n",
    "#Carregando direto os Dados Tratados:\n",
    "dados_tratados = pd.read_parquet('ENEM_CO_TRATADO.parquet')\n"
   ]
  },
  {
   "cell_type": "markdown",
   "metadata": {
    "id": "Jtk2t_g5ysAQ"
   },
   "source": [
    "## 2.1 Análise dos inscritos\n",
    "Visualização da relação de inscritos e presentes ao longo dos anos."
   ]
  },
  {
   "cell_type": "markdown",
   "metadata": {
    "id": "PfeQaAMErNEr"
   },
   "source": [
    "#### 2.1.1 Qual a faixa etária dos inscritos no ENEM entre 2018 e 2022?"
   ]
  },
  {
   "cell_type": "markdown",
   "metadata": {
    "id": "q_VEZrCpOmr_"
   },
   "source": [
    "O código analisa dados de faixa etária de alunos. Ele cria um DataFrame com contagem de alunos por faixa etária. Em seguida, combina esse DataFrame com um de-para das descrições das faixas etárias."
   ]
  },
  {
   "cell_type": "code",
   "execution_count": null,
   "metadata": {
    "colab": {
     "base_uri": "https://localhost:8080/"
    },
    "id": "KIKjQY9My3np",
    "outputId": "9d972011-36cf-4187-961a-0d78869479be"
   },
   "outputs": [],
   "source": [
    "#Plotar QUANTIDADE_INSCRITOS X ANO NU_ANO\n",
    "inscritos = pd.DataFrame(dados_tratados['NU_ANO'].value_counts())\n",
    "presente = pd.DataFrame(dados_tratados[dados_tratados['TP_PRESENCA'] == True]['NU_ANO'].value_counts())\n",
    "alunos = pd.concat([inscritos.rename(columns = {'NU_ANO':'Inscritos'}),presente.rename(columns = {'NU_ANO':'Presentes'})],axis = 1)\n",
    "alunos.sort_index().plot(kind='bar')\n",
    "#alunos.sort_index()\n"
   ]
  },
  {
   "cell_type": "markdown",
   "metadata": {
    "id": "MggsYxfj5dhL"
   },
   "source": [
    "Pelo gráfico acima conseguimos ver que a maior concentração dos participantes está em idade de terceiro ano do ensino médio e cursinho (de 17 a 19 anos)."
   ]
  },
  {
   "cell_type": "markdown",
   "metadata": {
    "id": "oQSNzcob12i6"
   },
   "source": [
    "#### 2.1.2 Como a faixa etária dos inscritos mudou ao longo da pandemia?"
   ]
  },
  {
   "cell_type": "markdown",
   "metadata": {
    "id": "Z7MN2K6DPhtt"
   },
   "source": [
    "O código realiza uma análise da distribuição da quantidade de alunos por faixa etária ao longo dos anos. Inicialmente, ele mescla dados da faixa etária dos alunos com informações relacionadas a idades, usando um método de junção (merge) por correspondência na coluna 'TP_FAIXA_ETARIA'. Em seguida, calcula as contagens dessa combinação de faixa etária e ano. Esses valores são organizados em um heatmap (mapa de calor) utilizando a biblioteca Seaborn, onde as cores representam a quantidade de alunos. O"
   ]
  },
  {
   "cell_type": "code",
   "execution_count": null,
   "metadata": {
    "colab": {
     "base_uri": "https://localhost:8080/"
    },
    "id": "ZAy3foaHzIFi",
    "outputId": "054430a3-c0f5-4384-e8c2-a05576c628a0"
   },
   "outputs": [],
   "source": [
    "#Plotar quantidades x faixas etarias por ano\n",
    "\n",
    "Faixa_Etaria_Ano = dados_tratados.merge(dp_idades.reindex(), on = 'TP_FAIXA_ETARIA', how = 'left')\n",
    "Faixa_Etaria_Ano = Faixa_Etaria_Ano[['Faixa Etária', 'NU_ANO']].value_counts()\n",
    "Faixa_Etaria_Ano = Faixa_Etaria_Ano.unstack()\n",
    "cmap = sns.cm.rocket_r\n",
    "sns.heatmap(Faixa_Etaria_Ano, cmap = cmap)\n",
    "#Faixa_Etaria_Ano.sort_index().plot.barh( stacked = True)\n",
    "\n",
    "#printando\n",
    "plt.title('Heatmap da quantidade de alunos por faixa etária por ano')\n",
    "plt.xlabel('Ano')\n",
    "plt.tight_layout()\n",
    "plt.show()"
   ]
  },
  {
   "cell_type": "markdown",
   "metadata": {
    "id": "BN8AxJwV5e7N"
   },
   "source": [
    "O gráfico acima confirma que as faixas de idade de maior concentração de participantes sempre se manteve entre os participantes entre 17 e 19 anos ao longo dos anos de nossa análise. Aqui também conseguimos notar que a participação de pessoas acima de 20 anos diminuiu bastante entre 2020 e 2022, principalmente na faixa de 26 a 30 anos."
   ]
  },
  {
   "cell_type": "markdown",
   "metadata": {
    "id": "Ujfi2CVJrmWQ"
   },
   "source": [
    "#### 2.1.3 Qual o perfil escolar dos estudantes inscritos no ENEM nos últimos 5 anos?"
   ]
  },
  {
   "cell_type": "markdown",
   "metadata": {
    "id": "7xkM2rQzPFWi"
   },
   "source": [
    "O código analisa dados sobre o tipo de escola em diferentes anos. Ele realiza uma contagem da frequência de tipos de escola para cada ano e organiza esses dados em um gráfico simples de barras horizontais de barras duplas."
   ]
  },
  {
   "cell_type": "code",
   "execution_count": null,
   "metadata": {
    "colab": {
     "base_uri": "https://localhost:8080/"
    },
    "id": "dAEKSmpuzlfA",
    "outputId": "ea1fe6bd-eead-417c-c52b-2987ed3d750b"
   },
   "outputs": [],
   "source": [
    "#plotar tipo de escola x anos (barras duplas)\n",
    "tipo_escola = dados_tratados[['NU_ANO', 'TP_ESCOLA']].value_counts()\n",
    "tipo_escola = tipo_escola.unstack()\n",
    "tipo_escola.plot.barh()\n",
    "\n",
    "#printando\n",
    "plt.title('Tipo de escola por ano')\n",
    "plt.xlabel('Quantidade')\n",
    "plt.ylabel('Ano')\n",
    "plt.tight_layout()\n",
    "plt.show()"
   ]
  },
  {
   "cell_type": "markdown",
   "metadata": {
    "id": "2OOeXSJ05hfx"
   },
   "source": [
    "Aqui conseguimos perceber que o volume de participantes de escolas particulares e públicas não mudou muito ao longo desses 5 anos, menos em 2018 que tivemos um público de escola privada muito pequeno se comparado aos próximos anos, assim nem conseguimos visualizar o mesmo no gráfico. Já os participantes que não responderam a essa pergunta diminuiu bastante, principalmente entre 2020 e 2022."
   ]
  },
  {
   "cell_type": "markdown",
   "metadata": {
    "id": "qigjxpD4D9gd"
   },
   "source": [
    "#### 2.1.4 - Como a quantidade de ausentes mudou ao longo do tempo?"
   ]
  },
  {
   "cell_type": "markdown",
   "metadata": {
    "id": "0KVl2aqJSxkw"
   },
   "source": [
    "O código analisa dados de presença de alunos ao longo dos anos. Ele seleciona as colunas de \"ano\" e \"tipo de presença\" de um conjunto de dados tratados. Depois, filtra os registros em que a presença é \"falsa\" (ausente) e agrupa esses dados por ano, contando a quantidade de ausências em cada ano."
   ]
  },
  {
   "cell_type": "code",
   "execution_count": null,
   "metadata": {
    "colab": {
     "base_uri": "https://localhost:8080/"
    },
    "id": "Gc6g8_e8D_PR",
    "outputId": "990ff945-1aae-439e-f5bd-3b8753f760d2"
   },
   "outputs": [],
   "source": [
    "ausentes = dados_tratados[['NU_ANO','TP_PRESENCA']]\n",
    "ausentes = ausentes[ausentes['TP_PRESENCA'] == False].groupby('NU_ANO').count()\n",
    "\n",
    "ausentes.plot.barh(legend=False)\n",
    "\n",
    "#printando\n",
    "plt.title('Quantidade de ausentes por ano')\n",
    "plt.xlabel('Quantidade')\n",
    "plt.ylabel('Ano')\n"
   ]
  },
  {
   "cell_type": "markdown",
   "metadata": {
    "id": "-5wGTxFn5kOi"
   },
   "source": [
    "Baseado no gráfico vemos que não existe uma tendencia clara de ausência mas que no ano de 2020 (primeiro ano da pandemia COVID-19) houve um aumento expressivo."
   ]
  },
  {
   "cell_type": "markdown",
   "metadata": {
    "id": "GJx6B_GbpVuX"
   },
   "source": [
    "Baseado no gráfico vemos que não existe uma tendencia clara de ausência mas que no ano de 2020 (primeiro ano da pandemia COVID-19) houve um aumento expressivo."
   ]
  },
  {
   "cell_type": "markdown",
   "metadata": {
    "id": "2o7xoeB6rB-W"
   },
   "source": [
    "#### 2.1.5 - Como a pandemia impactou na evasao à prova do enem e na quantidade de inscritos no ENEM?"
   ]
  },
  {
   "cell_type": "markdown",
   "metadata": {
    "id": "zsZx6G3QOO2D"
   },
   "source": [
    "\n",
    "O código analisa dados de participação de estudantes em anos diferentes. Dois DataFrames são criados: um com contagem de inscritos por ano e outro com contagem de presentes por ano. Esses DataFrames são combinados e um gráfico de barras é gerado para comparar inscritos e presentes ao longo dos anos."
   ]
  },
  {
   "cell_type": "code",
   "execution_count": null,
   "metadata": {
    "colab": {
     "base_uri": "https://localhost:8080/"
    },
    "id": "nYUFOfONyri4",
    "outputId": "ea804eb3-266d-4c05-f911-2a392c18ae83"
   },
   "outputs": [],
   "source": [
    "#Plotar QUANTIDADE_INSCRITOS X ANO NU_ANO\n",
    "inscritos = pd.DataFrame(dados_tratados['NU_ANO'].value_counts())\n",
    "presente = pd.DataFrame(dados_tratados[dados_tratados['TP_PRESENCA'] == True]['NU_ANO'].value_counts())\n",
    "alunos = pd.concat([inscritos.rename(columns = {'NU_ANO':'Inscritos'}),presente.rename(columns = {'NU_ANO':'Presentes'})],axis = 1)\n",
    "alunos.sort_index().plot(kind='bar')\n",
    "#alunos.sort_index()\n",
    "\n",
    "#printando\n",
    "plt.title('Alunos Inscritos x Alunos Presentes')\n",
    "plt.xlabel('Ano')\n",
    "plt.ylabel('Quantidade')\n",
    "plt.xticks(rotation=0)\n",
    "plt.tight_layout()\n",
    "plt.show()\n",
    "\n"
   ]
  },
  {
   "cell_type": "markdown",
   "metadata": {
    "id": "d7JIN7l_5olR"
   },
   "source": [
    "Nesse gráfico acima conseguimos ver que o ano que estourou a pandemia (2020) tivemos o maior número de inscritos desde período da nossa amostra, porém também tivemos a menor conversão desses inscritos para presentes na prova, podendo isso ter sido motivado pela preocupação das pessoas em se deslocar até o local da prova pela pandemia em andamento entre outros motivos."
   ]
  },
  {
   "cell_type": "markdown",
   "metadata": {
    "id": "Djao8JXD0OPY"
   },
   "source": [
    "## 2.3 Língua"
   ]
  },
  {
   "cell_type": "markdown",
   "metadata": {
    "id": "B4aL0QiQv_JX"
   },
   "source": [
    "### 2.3.1 Qual foi a  preferência dos inscritos para a prova de lígua estrangeira nos últimos 5 anos?\n",
    "\n",
    "\n"
   ]
  },
  {
   "cell_type": "markdown",
   "metadata": {
    "id": "gYgkointPqad"
   },
   "source": [
    "O código examina dados sobre o tipo de língua escolhido pelos alunos em diferentes anos. Ele cria um DataFrame que conta a quantidade de escolhas de cada tipo de língua por ano. Os dados são reformulados para facilitar a visualização, gerando um gráfico de barras horizontais."
   ]
  },
  {
   "cell_type": "code",
   "execution_count": null,
   "metadata": {
    "colab": {
     "base_uri": "https://localhost:8080/"
    },
    "id": "DXWu_XzbuWbc",
    "outputId": "5dbbb3c1-cd75-41aa-ddf8-b8287eb42705"
   },
   "outputs": [],
   "source": [
    "#plotar quantidades linguas x anos (barras duplas)\n",
    "tipo_lingua = dados_tratados[['NU_ANO', 'TP_LINGUA']].value_counts()\n",
    "tipo_lingua = tipo_lingua.unstack()\n",
    "tipo_lingua.plot.barh()\n",
    "\n",
    "#printando\n",
    "plt.title('Relação das linguas por ano')\n",
    "plt.xlabel('Quantidade')\n",
    "plt.ylabel('Ano')\n",
    "plt.tight_layout()\n",
    "plt.show()"
   ]
  },
  {
   "cell_type": "markdown",
   "metadata": {
    "id": "o6JBWYwV5rzF"
   },
   "source": [
    "Assim como observamos nos gráficos anteriores, tivemos uma redução no número de participantes do Enem nos últimos anos. Mas em relação à lingua que escolheram para fazer a prova de língua estrageira, tivemos uma queda mais significativa na escolha pela prova de espanhol do que de inglês de 2020 até 2022."
   ]
  },
  {
   "cell_type": "markdown",
   "metadata": {
    "id": "hBcgXhkZEDfj"
   },
   "source": [
    "### 2.3.2 Estados que fazem divisa com países que falam espanhol tiveram maior preferêcia pela linha espanhola?\n",
    "\n",
    "\n"
   ]
  },
  {
   "cell_type": "markdown",
   "metadata": {
    "id": "yUpFwe_4P034"
   },
   "source": [
    "\n",
    "O código compara a preferência de idioma (inglês ou espanhol) em provas por estado. Ele calcula a diferença percentual entre o número de provas realizadas em espanhol e inglês em cada estado. Em seguida, cria um gráfico de barras horizontais que exibe essas diferenças. Valores de diferença percentual são adicionados ao gráfico para cada estado. O gráfico ilustra as discrepâncias na escolha de idioma entre os estados nas provas."
   ]
  },
  {
   "cell_type": "markdown",
   "metadata": {
    "id": "fXeAIU-zPssJ"
   },
   "source": []
  },
  {
   "cell_type": "code",
   "execution_count": null,
   "metadata": {
    "colab": {
     "base_uri": "https://localhost:8080/"
    },
    "id": "nWY3jLwLEFf5",
    "outputId": "c2ad5d48-2716-46f5-ecd3-892a50f86ba2"
   },
   "outputs": [],
   "source": [
    "tipo_lingua = dados_tratados[['SG_UF_PROVA','TP_LINGUA' ]].value_counts()\n",
    "tipo_lingua = tipo_lingua.unstack().reset_index().set_index('SG_UF_PROVA')\n",
    "\n",
    "#Calcular a diferença percentual\n",
    "tipo_lingua['diferenca'] = 100 * (tipo_lingua['Espanhol'] - tipo_lingua['Inglês']) / tipo_lingua['Espanhol']\n",
    "\n",
    "# Plotar o gráfico de barras horizontais\n",
    "plt.figure(figsize=(10, 6))\n",
    "graf34 = tipo_lingua.plot.barh()\n",
    "\n",
    "# Adicionar os valores da coluna 'diferenca' no gráfico\n",
    "for i, v in enumerate(tipo_lingua['diferenca']):\n",
    "    graf34.text(v+200_000, i+0.17, f'Diferença: {v:.2f}%', color='black', fontsize=10, va='center')\n",
    "\n",
    "#printando\n",
    "plt.title('Diferença entre lingua inglesa e espanhola nos estados')\n",
    "plt.xlabel('Quantidade')\n",
    "plt.ylabel('Estado')"
   ]
  },
  {
   "cell_type": "markdown",
   "metadata": {
    "id": "VAW-QufMCX06"
   },
   "source": [
    "Todos os estados da região centro-oeste apresentam uma preferencia de escolha de lingua estrangeira pela língua espanhola, porém os estados onde a diferença é maior são MT (divisa com país que fala a língua espanhola) e GO (não faz dívisa com país que fala língua espanhola). Assim não é possível afirmar que a fronteira tem impacto na seleção da língua estrangeira."
   ]
  },
  {
   "cell_type": "markdown",
   "metadata": {
    "id": "IPYfu46S3qgC"
   },
   "source": [
    "## 2.4 Notas Gerais"
   ]
  },
  {
   "cell_type": "markdown",
   "metadata": {
    "id": "jfc8qxJFk31k"
   },
   "source": [
    "### 2.4.1 Como foi a distribuição de notas nos últimos cinco anos?\n",
    "\n",
    "*Não inclui nota de redação."
   ]
  },
  {
   "cell_type": "markdown",
   "metadata": {
    "id": "Vtin3DZDQMzD"
   },
   "source": [
    "\n",
    "O código cria um conjunto de seis gráficos de histograma em uma matriz de 2x3 para visualizar as notas gerais dos alunos nos anos de 2018 a 2022. Ele itera através desses anos, filtrando os dados correspondentes a cada ano. Em seguida, cria um DataFrame com as notas gerais e plota um histograma para cada ano nos subplots da matriz."
   ]
  },
  {
   "cell_type": "code",
   "execution_count": null,
   "metadata": {
    "colab": {
     "base_uri": "https://localhost:8080/"
    },
    "id": "Q618GNlz1F20",
    "outputId": "22825be5-d3eb-435e-b352-9c5eb9d7b6a5"
   },
   "outputs": [],
   "source": [
    "#Distribuicao normal?\n",
    "#nota geral nao inclui a redacao\n",
    "#Shapiro Test:\n",
    "import numpy as np\n",
    "from scipy.stats import shapiro\n",
    "#import warnings\n",
    "#warnings.filterwarnings('ignore')\n",
    "\n",
    "filtro_notageral = dados_tratados['NU_NOTA_GERAL'] > 0\n",
    "anos = [2018,2019,2020,2021,2022]\n",
    "fig, axes = plt.subplots(nrows=2, ncols=3,figsize=(10, 10))\n",
    "i = 0\n",
    "j = 0\n",
    "for ano in anos:\n",
    "  filtro2 = dados_tratados['NU_ANO'] == ano\n",
    "  amostra = pd.DataFrame(dados_tratados.loc[filtro_notageral & filtro2]['NU_NOTA_GERAL'])\n",
    "  amostra.rename(columns={'NU_NOTA_GERAL':ano}).plot(kind = 'hist', ax=axes[i,j])\n",
    "\n",
    "  if j <= 1 :\n",
    "    j = j+1\n",
    "  else:\n",
    "    j = 0\n",
    "    i = i+1\n",
    "  #printando\n",
    "\n",
    "\n",
    "#  pvalue = shapiro(amostra)[1]\n",
    "#  if pvalue > 0.05:\n",
    "#    print(f'Amostra de {ano} é distribuida normalmente com pvalue de {pvalue}')\n",
    "#  elif pvalue < 0.05:\n",
    "#    print(f'Amostra de {ano} NÃO é distribuida normalmente com pvalue de {pvalue}')\n",
    "\n"
   ]
  },
  {
   "cell_type": "markdown",
   "metadata": {
    "id": "A26dX91Y5yCE"
   },
   "source": [
    "Pelos gráficos acima conseguimos ver que tivemos uma mudança de patamar de notas geraus acima de 600 (sem incluir a nota de redação) de 2020 pra frente. O volume de notas boas caiu muito, o que dá uma primeira impressão de termos resultadores piores em períodos pandêmicos e pós-pandêmicos."
   ]
  },
  {
   "cell_type": "markdown",
   "metadata": {
    "id": "gt_gFbnBlR6L"
   },
   "source": [
    "### 2.4.2 Distribuição de notas dos últimos cinco anos no formato Box Plot."
   ]
  },
  {
   "cell_type": "markdown",
   "metadata": {
    "id": "TMdXOGrBQ0xn"
   },
   "source": [
    "\n",
    "O código processa dados de notas de alunos tratados. Ele seleciona as colunas de 'NU_NOTA_GERAL' e 'NU_ANO' para alunos que atendem a um certo critério. Em seguida, usando a biblioteca gráfica Plotly, ele cria um gráfico de caixa (box plot) em que os anos estão no eixo x e as notas gerais, normalizadas por 4, estão no eixo y. O gráfico exibe a distribuição das notas gerais ao longo dos anos."
   ]
  },
  {
   "cell_type": "code",
   "execution_count": null,
   "metadata": {
    "colab": {
     "background_save": true
    },
    "id": "I7_0jxyG37GY",
    "outputId": "11a7ad7a-b854-4f7b-940d-f690c34f2304"
   },
   "outputs": [],
   "source": [
    "# plotar grafico de linha da média das notas ao longo do tempo\n",
    "notas = dados_tratados.loc[filtro_notageral][['NU_NOTA_GERAL','NU_ANO']]\n",
    "fig = go.Figure()\n",
    "fig.add_trace(go.Box(\n",
    "    x = notas['NU_ANO'],\n",
    "    y = notas['NU_NOTA_GERAL']\n",
    "))\n",
    "\n",
    "#Adicionando elementos no grafico\n",
    "fig.update_layout(\n",
    "    title='Distribuição das Notas Gerais por Ano',\n",
    "    xaxis_title='Ano',\n",
    "    yaxis_title='Nota geral'\n",
    "\n",
    ")\n",
    "\n",
    "fig.update_traces(\n",
    "    boxmean=True,  # Adiciona a linha de média dentro da caixa\n",
    "    line_width=2.5,  # Espessura da linha dos box plots\n",
    ")"
   ]
  },
  {
   "cell_type": "markdown",
   "metadata": {
    "id": "kwlqJtsB52-6"
   },
   "source": [
    "Pelos bloxplots acima conseguimos ver que estamos com uma maior amplitude nas notas auferidas de 2020 para frente. As notas máximas e quartis superiores também se apresentam num valor acima do que vemos em 2019. A nota mínima também aumentou nesse período, contradizendo o que estavamos pensando ao ver o gráfico de cima."
   ]
  },
  {
   "cell_type": "markdown",
   "metadata": {
    "id": "870HHf-pD_3m"
   },
   "source": [
    "\n",
    "### 2.4.3 As notas médias dos alunos de escolas públicas e privadas foram afetadas de forma semelhante pela pandemia?\n",
    "\n",
    "*Não inclui nota da redação.\n"
   ]
  },
  {
   "cell_type": "markdown",
   "metadata": {
    "id": "uYVh0306TEz7"
   },
   "source": [
    "O código seleciona informações relevantes de alunos, incluindo ano, tipo de escola, presença e nota geral. Ele calcula a média das notas gerais para alunos presentes em cada ano e tipo de escola. Em seguida, plota gráficos de linhas sobrepostas para mostrar a evolução da média das notas ao longo dos anos, separadas por tipos de escola."
   ]
  },
  {
   "cell_type": "code",
   "execution_count": null,
   "metadata": {
    "colab": {
     "background_save": true
    },
    "id": "yP1KinFHEA2C"
   },
   "outputs": [],
   "source": [
    "\n",
    "presentes = dados_tratados[['NU_ANO','TP_ESCOLA','TP_PRESENCA','NU_NOTA_GERAL']]\n",
    "presentes = presentes[presentes['TP_PRESENCA']==True].groupby(['NU_ANO','TP_ESCOLA']).agg({'NU_NOTA_GERAL': 'mean'})\n",
    "\n",
    "presentes.reset_index(inplace=True)"
   ]
  },
  {
   "cell_type": "code",
   "execution_count": null,
   "metadata": {
    "colab": {
     "background_save": true
    },
    "id": "NqP0Pa_HxbSN",
    "outputId": "d8c02bf7-95b6-4bd1-aaa7-eee8e8cf8159"
   },
   "outputs": [],
   "source": [
    "#PARA CADA TIPO DE ESCOLA PLOTAR A MEDIA AO LONGO DOS ANOS, TRES LINHAS UMA EM CIMA DA OUTRA\n",
    "# Criar uma lista de tipos de escola únicos\n",
    "tipos_escola = presentes['TP_ESCOLA'].unique()\n",
    "\n",
    "# Plotar os gráficos de linha sobrepostos para cada tipo de escola\n",
    "for tipo_escola in tipos_escola:\n",
    "    df_tipo_escola = presentes[presentes['TP_ESCOLA'] == tipo_escola]\n",
    "    plt.plot(df_tipo_escola['NU_ANO'], df_tipo_escola['NU_NOTA_GERAL'], label=f'Tipo Escola {tipo_escola}')\n",
    "\n",
    "plt.xticks(anos)\n",
    "plt.title('Média das Notas por Ano para Cada Tipo de Escola')\n",
    "plt.xlabel('Ano')\n",
    "plt.ylabel('Média das Notas')\n",
    "plt.legend(loc=0)\n",
    "plt.show()"
   ]
  },
  {
   "cell_type": "markdown",
   "metadata": {
    "id": "3CUQFUkG7-_m"
   },
   "source": [
    "A partir do gráfico vemos que, exceto no ano de 2018, os alunos de escola privada tem uma média de notas mais altas."
   ]
  },
  {
   "cell_type": "markdown",
   "metadata": {
    "id": "SWT1j8Al0h6Y"
   },
   "source": [
    "## 2.5 Notas de redação"
   ]
  },
  {
   "cell_type": "markdown",
   "metadata": {
    "id": "JL4u3lWhyb8c"
   },
   "source": [
    "### 2.5.1 Houve mudança significativa nas notas de redação nos útimos 5 anos?"
   ]
  },
  {
   "cell_type": "markdown",
   "metadata": {
    "id": "JQz06kmvRZpe"
   },
   "source": [
    "O código processa dados de notas de estudantes. Ele seleciona as colunas de 'NU_NOTA_REDACAO' e 'NU_ANO' de um DataFrame chamado 'dados_tratados' com base em um filtro. O código calcula a média e o desvio padrão das notas por ano e armazena esses cálculos em um novo DataFrame chamado 'media'. Em seguida, ele extrai a coluna de médias de notas ('NU_NOTA_REDACAO') desse DataFrame 'media' e a representa visualmente usando um gráfico de barras horizontais, onde cada barra representa um ano, a média das notas é o valor da barra, e a barra é acompanhada por barras de erro representando o desvio padrão das notas."
   ]
  },
  {
   "cell_type": "code",
   "execution_count": null,
   "metadata": {
    "colab": {
     "background_save": true
    },
    "id": "LP6_x4728w34",
    "outputId": "2ed2509c-6a67-4b19-ab66-c093475e3eb2"
   },
   "outputs": [],
   "source": [
    "filtro_redacao = dados_tratados['NU_NOTA_REDACAO'] > 0\n",
    "notas_redacao = dados_tratados.loc[filtro_redacao][['NU_NOTA_REDACAO','NU_ANO']]\n",
    "\n",
    "media_redacao = notas_redacao.groupby('NU_ANO').agg([np.mean, np.std])\n",
    "\n",
    "media_redacao2 = media_redacao['NU_NOTA_REDACAO']\n",
    "media_redacao2.rename(columns={'mean':'Média Notas'}).plot(kind = 'barh', xerr = 'std',legend=False)\n",
    "\n",
    "#printando\n",
    "plt.title('Média e desvio padrão das notas da redação por ano')\n",
    "plt.xlabel('Média das notas')\n",
    "plt.ylabel('Ano')"
   ]
  },
  {
   "cell_type": "markdown",
   "metadata": {
    "id": "HIqRRrxe0RmW"
   },
   "source": [
    "###  2.5.2 Correlação entre as notas de redação e as notas nas provas de Linguagens, Códigos e suas Tecnologias"
   ]
  },
  {
   "cell_type": "markdown",
   "metadata": {
    "id": "yhT1UJh5SfbN"
   },
   "source": [
    "O código calcula a correção entre as notas da prova de linguagens e código e as notas da redação dos participantes. A correlação é retornada como um valor entre zero e um que expressao o nível de correlação."
   ]
  },
  {
   "cell_type": "code",
   "execution_count": null,
   "metadata": {
    "colab": {
     "background_save": true
    },
    "id": "M7UaupS64LOI",
    "outputId": "ea805393-490c-41e1-8e13-cf77cbf2a0a0"
   },
   "outputs": [],
   "source": [
    "#plotar scatterplot notas LC (linguagens e codigos) x notas redaçaão (hipotese, quem vai bem em portugues vai bem em redação)\n",
    "notas_correlacao_LC = dados_tratados.loc[filtro_notageral & filtro_redacao][['NU_NOTA_LC','NU_NOTA_REDACAO']]\n",
    "notas_correlacao_LC.corr()\n"
   ]
  },
  {
   "cell_type": "markdown",
   "metadata": {
    "id": "V4trseWQ3wsp"
   },
   "source": [
    "### 2.5.3 Correlação entre as notas nas provas objetivas e as notas de redação\n"
   ]
  },
  {
   "cell_type": "markdown",
   "metadata": {
    "id": "zeMEk81_SdFg"
   },
   "source": [
    "O código calcula a correção entre as notas gerais e as notas da redação dos participantes. A correlação é retornada como um valor entre zero e um que expressao o nível de correlação."
   ]
  },
  {
   "cell_type": "code",
   "execution_count": null,
   "metadata": {
    "colab": {
     "background_save": true
    },
    "id": "A2rl4xCG4Gco",
    "outputId": "a2ccb07f-7929-4899-a524-3caf7bb3e5ab"
   },
   "outputs": [],
   "source": [
    "#plotar scatterplot notas gerais x notas redaçaão\n",
    "\n",
    "notas_correlacao = dados_tratados.loc[filtro_notageral & filtro_redacao][['NU_NOTA_GERAL','NU_NOTA_REDACAO']]\n",
    "notas_correlacao['NU_NOTA_GERAL'] = notas_correlacao['NU_NOTA_GERAL']\n",
    "\n",
    "notas_correlacao.corr()\n"
   ]
  },
  {
   "cell_type": "markdown",
   "metadata": {
    "id": "BsOo8dIHpFwW"
   },
   "source": [
    "### 2.5.4 Distribuição das notas de redação"
   ]
  },
  {
   "cell_type": "markdown",
   "metadata": {
    "id": "eLDiOIlXSBwL"
   },
   "source": [
    "O código processa dados de notas de alunos tratados. Ele seleciona as colunas de 'NU_NOTA_REDACAO' e 'NU_ANO' para alunos que atendem a um certo critério. Em seguida, usando a biblioteca gráfica Plotly, ele cria um gráfico de caixa (box plot) em que os anos estão no eixo x e as notas gerais, normalizadas por 4, estão no eixo y. O gráfico exibe a distribuição das notas gerais ao longo dos anos."
   ]
  },
  {
   "cell_type": "code",
   "execution_count": null,
   "metadata": {
    "id": "n48QxT2v4Drs"
   },
   "outputs": [],
   "source": [
    "# plotar grafico de linha da média das notas ao longo do tempo\n",
    "\n",
    "fig = go.Figure()\n",
    "fig.add_trace(go.Box(\n",
    "    x = notas_redacao['NU_ANO'],\n",
    "    y = notas_redacao['NU_NOTA_REDACAO']\n",
    "))\n",
    "\n",
    "#Adicionando elementos no grafico\n",
    "fig.update_layout(\n",
    "    title='Distribuição das Notas das redações por Ano',\n",
    "    xaxis_title='Ano',\n",
    "    yaxis_title='Nota Redação'\n",
    "\n",
    ")\n",
    "\n",
    "fig.update_traces(\n",
    "    boxmean=True,  # Adiciona a linha de média dentro da caixa\n",
    "    line_width=2.5,  # Espessura da linha dos box plots\n",
    ")"
   ]
  },
  {
   "cell_type": "markdown",
   "metadata": {
    "id": "DPD8GXVJngZU"
   },
   "source": [
    "### 2.5.5 Houve mais dificuldade com redação durante a pandemia?"
   ]
  },
  {
   "cell_type": "markdown",
   "metadata": {
    "id": "DLAt4Gl5Sqg6"
   },
   "source": [
    "O código une dados de tipos de redação e seus status com dados tratados. Ele calcula a proporção de cada status de redação para cada ano, transforma os dados em um formato tabular e cria um gráfico de barras. O gráfico ilustra a relação entre os status das redações e os anos."
   ]
  },
  {
   "cell_type": "code",
   "execution_count": null,
   "metadata": {
    "id": "e6zlFrfBZxdC"
   },
   "outputs": [],
   "source": [
    "#Criando variável tipo de redaçao\n",
    "#plotar status redação geral (sem ser por ano, apenas tipos)\n",
    "tipo_redacao = dados_tratados.merge(dp_redacao.reindex(), on = 'TP_STATUS_REDACAO', how = 'left')\n",
    "tipo_redacao = tipo_redacao[['NU_ANO' , 'Status Redacao' ]].value_counts(normalize=True) * 100\n",
    "tipo_redacao = tipo_redacao.unstack()"
   ]
  },
  {
   "cell_type": "code",
   "execution_count": null,
   "metadata": {
    "id": "u798BWxN_c9-"
   },
   "outputs": [],
   "source": [
    "# Plotar o gráfico de barras\n",
    "ax = tipo_redacao.plot.bar()\n",
    "\n",
    "# Personalizar a legenda\n",
    "legend_labels = tipo_redacao.columns  # Labels da legenda (Status Redacao)\n",
    "\n",
    "# Posicionar a legenda abaixo do gráfico, centralizado\n",
    "ax.legend(legend_labels, loc='upper center', bbox_to_anchor=(0.5, -0.15), ncol=len(legend_labels))\n",
    "\n",
    "# Resto do código de personalização\n",
    "plt.title('Relação dos status das redações por ano')\n",
    "plt.xlabel('Ano')\n",
    "plt.ylabel('Proporção (%)')\n",
    "plt.xticks(rotation=0)\n",
    "plt.tight_layout()\n",
    "\n",
    "# Mostrar o gráfico\n",
    "plt.show()"
   ]
  },
  {
   "cell_type": "markdown",
   "metadata": {
    "id": "Qc7-9OFAsUTw"
   },
   "source": [
    "## 2.6 Alunos do terceiro ano"
   ]
  },
  {
   "cell_type": "markdown",
   "metadata": {
    "id": "lPooCXxovuev"
   },
   "source": [
    "### 2.6.1 Como as notas de redação dos terceiro anistas foi impactada pela pandemia?"
   ]
  },
  {
   "cell_type": "markdown",
   "metadata": {
    "id": "FyhEk1SATWNw"
   },
   "source": [
    "O código realiza uma análise das notas de redação entre estudantes do terceiro ano do ensino médio. Ele filtra os dados para terceiro-anistas, calcula a média e o desvio padrão das notas de redação agrupadas por ano. Em seguida, renomeia colunas e compara essas médias com uma média geral de notas de redação. Um gráfico é gerado para exibir as médias das notas dos terceiro-anistas e a média geral ao longo dos anos. Intervalos de confiança são sombreados para indicar a variabilidade das médias. O objetivo é analisar como as notas de redação dos terceiro-anistas se comparam com a média geral em diferentes anos."
   ]
  },
  {
   "cell_type": "code",
   "execution_count": null,
   "metadata": {
    "id": "EmiEfI7s6bZe"
   },
   "outputs": [],
   "source": [
    "#Entre os Terceiro Anistas:\n",
    "filtro_terceiroanista = dados_tratados['TP_ST_CONCLUSAO'] == 2\n",
    "terc_sit_EM = dados_tratados.loc[filtro_terceiroanista & filtro_redacao][['NU_NOTA_REDACAO','NU_ANO']]\n",
    "media_terceiroanista = terc_sit_EM.groupby('NU_ANO').agg([np.mean, np.std])\n",
    "media_terceiroanista2 = media_terceiroanista['NU_NOTA_REDACAO']\n",
    "#renomeando colunas\n",
    "media_terceiroanista2 = media_terceiroanista2.rename(columns={'mean':'mean 3a','std':'std 3a'})\n",
    "media_redacao_compara = media_redacao2.rename(columns={'mean':'mean geral','std':'std geral'})\n",
    "\n",
    "grafico_redacao = pd.concat([media_terceiroanista2,media_redacao_compara], axis = 1).reset_index()\n",
    "grafico_redacao.plot(x = 'NU_ANO',y=[\"mean 3a\", \"mean geral\"],  style='.-' , figsize = (15,8), xticks =grafico_redacao['NU_ANO'])\n",
    "y1 = np.array(grafico_redacao['mean 3a']) - np.array(grafico_redacao['std 3a'])\n",
    "y2 = np.array(grafico_redacao['mean 3a']) + np.array(grafico_redacao['std 3a'])\n",
    "plt.fill_between(grafico_redacao['NU_ANO'],y1,y2,alpha=.1)\n",
    "y1 = np.array(grafico_redacao['mean geral']) - np.array(grafico_redacao['std geral'])\n",
    "y2 = np.array(grafico_redacao['mean geral']) + np.array(grafico_redacao['std geral'])\n",
    "plt.fill_between(grafico_redacao['NU_ANO'],y1,y2,alpha=.1)\n",
    "\n",
    "\n"
   ]
  },
  {
   "cell_type": "markdown",
   "metadata": {
    "id": "AgKiOVLzyM8A"
   },
   "source": [
    "O desempenho médio dos alunos do terceiro ano na redação do ENEM tem sido melhor do que o desempenho médio de todos os participantes desde 2019. Em 2020, a diferença entre as notas médias dos alunos do terceiro ano e de todos os participantes diminuiu um pouco, mas aumentou novamente nos anos seguintes. O desvio padrão das notas dos alunos do terceiro ano também é maior do que o do público geral."
   ]
  },
  {
   "cell_type": "markdown",
   "metadata": {
    "id": "Wm4wWwuQEBe6"
   },
   "source": [
    "### 2.6.2 Houve alguma mudança significativa na participação de terceiro anistas diante da pandemia?"
   ]
  },
  {
   "cell_type": "markdown",
   "metadata": {
    "id": "H93_XTDkTL8_"
   },
   "source": [
    "\n",
    "O código combina dados de inscrição com informações de conclusão do Ensino Médio. Ele cria um gráfico de barras empilhadas para representar a distribuição das situações de conclusão do Ensino Médio ao longo dos anos de inscrição."
   ]
  },
  {
   "cell_type": "code",
   "execution_count": null,
   "metadata": {
    "id": "CTh6iNXiEC63"
   },
   "outputs": [],
   "source": [
    "#Código\n",
    "inscritos_sit_EM = dados_tratados.merge(dp_conclusao.reindex(), on = 'TP_ST_CONCLUSAO', how = 'left')\n",
    "inscritos_sit_EM = inscritos_sit_EM[['NU_ANO','Situação do Ensino Médio']].value_counts()\n",
    "inscritos_sit_EM.unstack().plot.bar(stacked=True, figsize = (15,8)).legend(loc=0)\n",
    "\n",
    "#printando\n",
    "plt.title('Situação do ensino médio por ano')\n",
    "plt.xlabel('Ano')\n",
    "plt.ylabel('Quantidade')\n",
    "plt.xticks(rotation=0)\n",
    "\n",
    "\n",
    "#presente = pd.DataFrame(dados_tratados[dados_tratados['TP_PRESENCA'] == True]['NU_ANO'].value_counts())\n",
    "#alunos = pd.concat([inscritos.rename(columns = {'NU_ANO':'Inscritos'}),presente.rename(columns = {'NU_ANO':'Presentes'})],axis = 1)\n",
    "#alunos.sort_index().plot(kind='bar')"
   ]
  },
  {
   "cell_type": "markdown",
   "metadata": {
    "id": "je4zjgudy8Mt"
   },
   "source": [
    "A participação de pessoas que já concluíram o ensino médio no ENEM diminuiu significativamente após 2020."
   ]
  },
  {
   "cell_type": "markdown",
   "metadata": {
    "id": "yimv3idhIk_m"
   },
   "source": [
    "---\n",
    "# 3. Conclusão"
   ]
  },
  {
   "cell_type": "markdown",
   "metadata": {
    "id": "cKwsZUdi1D8P"
   },
   "source": [
    "## 3.1 Dificuldades e aprendizados\n",
    "\n",
    "\n",
    "*   Pouco tempo para decisão do dataset\n",
    "*   Dificuldade em trabalhar com dataset muito grande (garantir a reprodutibilidade)\n",
    "* Dificuldade em trabalhar num ambiente colaborativo e versionado.\n",
    "\n"
   ]
  },
  {
   "cell_type": "markdown",
   "metadata": {
    "id": "AO1Lqyd01VzQ"
   },
   "source": [
    "## 3.2 Pontos Positivos\n",
    "\n",
    "\n",
    "*   Equipe multidisciplinar\n",
    "*   Troca de experiências\n",
    "\n"
   ]
  },
  {
   "cell_type": "markdown",
   "metadata": {
    "id": "CycgwyvUVa7q"
   },
   "source": [
    "## 3.3 Melhorias futuras\n",
    "* Realizar testes estatisticos de normalidade\n",
    "* Realizar testes estatisticos de hipótese"
   ]
  }
 ],
 "metadata": {
  "colab": {
   "collapsed_sections": [
    "2qoxdSJeByTm"
   ],
   "provenance": [],
   "toc_visible": true
  },
  "kernelspec": {
   "display_name": "Python 3",
   "name": "python3"
  },
  "language_info": {
   "codemirror_mode": {
    "name": "ipython",
    "version": 3
   },
   "file_extension": ".py",
   "mimetype": "text/x-python",
   "name": "python",
   "nbconvert_exporter": "python",
   "pygments_lexer": "ipython3",
   "version": "3.10.12"
  }
 },
 "nbformat": 4,
 "nbformat_minor": 0
}
